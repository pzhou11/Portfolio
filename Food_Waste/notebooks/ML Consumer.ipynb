{
 "cells": [
  {
   "cell_type": "code",
   "execution_count": 1,
   "metadata": {
    "collapsed": true
   },
   "outputs": [],
   "source": [
    "%matplotlib inline  \n",
    "import numpy as np\n",
    "import pandas as pd\n",
    "import matplotlib.pyplot as plt\n",
    "import sklearn.preprocessing, sklearn.decomposition, sklearn.linear_model, sklearn.pipeline, sklearn.metrics\n",
    "from sklearn_pandas import DataFrameMapper, CategoricalImputer, cross_val_score"
   ]
  },
  {
   "cell_type": "code",
   "execution_count": 22,
   "metadata": {
    "collapsed": false
   },
   "outputs": [
    {
     "name": "stdout",
     "output_type": "stream",
     "text": [
      "\"\",\"household_key\",\"day\",\"classifcation\",\"basket_id\",\"product_id\",\"quantity\",\"pre_coupon\",\"category\",\"classification\",\"sized\",\"age\",\"income\",\"household_count\",\"adult_count\",\"kid_count\",\"per_capita_size_trip\",\"total_trip_size\",\"previous_shop_date\",\"previous_shop_size\",\"spread\",\"days_between_avg\",\"days_between_stdev\",\"avg_trip_size\",\"avg_size_stdev\",\"first_trip_adjust\",\"adjusted_day\",\"month\",\"adjusted_month\",\"age_mult\",\"household_mult\",\"income_mult\",\"shop_trip_count\",\"product_count\",\"total_spent\",\"total_size\",\"per_capita_size_total\",\"per_capita_cost_total\",\"random_number_hh\",\"personal_mult\",\"random_number_ff\",\"random_number_pf\",\"random_number_fv\",\"random_number_pv\",\"random_number_milk\",\"random_number_dairy\",\"random_number_meat\",\"random_number_fowl\",\"random_number_fish\",\"random_number_item\",\"random_effect\",\"type_mult\",\"total_item_size\",\"per_capita_item_size\",\"categorization\",\"retailer\",\"consumer\",\"duration\",\"time_loss\",\"total_mult\",\"food_loss_no_alter\",\"food_loss\",\"wasted\",\"wasted_no_alter\",\"wasted_perc\",\"wasted_perc_no_alter\",\"total_ff\",\"total_pf\",\"total_fv\",\"total_pv\",\"total_milk\",\"total_dairy\",\"total_meat\",\"total_fowl\",\"total_fish\",\"wasted_ff\",\"wasted_pf\",\"wasted_fv\",\"wasted_pv\",\"wasted_milk\",\"wasted_dairy\",\"wasted_meat\",\"wasted_fowl\",\"wasted_fish\",\"wasted_trip\",\"wasted_no_alter_trip\",\"wasted_perc_trip\",\"total_ff_trip\",\"total_pf_trip\",\"total_fv_trip\",\"total_pv_trip\",\"total_milk_trip\",\"total_dairy_trip\",\"total_meat_trip\",\"total_fowl_trip\",\"total_fish_trip\",\"wasted_ff_trip\",\"wasted_pf_trip\",\"wasted_fv_trip\",\"wasted_pv_trip\",\"wasted_milk_trip\",\"wasted_dairy_trip\",\"wasted_meat_trip\",\"wasted_fowl_trip\",\"wasted_fish_trip\"\r",
      "\r\n",
      "\"1\",1,101,60,28235481967,7441419,1,4.79,\"DAIRY\",\"ICE CREAM\",16,70,42.5,2,2,0,122,244,7,403,655,9.35714285714286,4.65330088321515,430.100857142857,327.762474692644,50,51,4,2,-25,1,-0.6106158426811,70,975,2470.36,24077.96,12038.98,1235.18,26.55086631421,0,-7.79278790112585,8.50459870416671,9.24666617065668,7.2502137394622,-7.24539432208985,2.93258150108159,-4.88291351590306,6.27273174934089,-0.498261679895222,77.3044522618875,1,2.93258150108159,16,8,\"ICE CREAM\",12,19,90,0,-21.6780343415995,14.8811734750961,14.8811734750961,2.38098775601537,2.38098775601537,0.148811734750961,0.148811734750961,0,0,0,0,0,16,0,0,0,0,0,0,0,0,2.38098775601537,0,0,0,45.9222555459782,48.3032433019936,0.18820596535237,0,0,64,0,128,52,0,0,0,0,0,10.320171697125,0,30.2448613978186,5.35722245103459,0,0,0\r",
      "\r\n",
      "\"2\",1,101,60,28235481967,7441419,1,4.79,\"DAIRY\",\"ICE CREAM\",16,70,42.5,2,2,0,122,244,7,403,655,9.35714285714286,4.65330088321515,430.100857142857,327.762474692644,50,51,4,2,-25,1,-0.6106158426811,70,975,2470.36,24077.96,12038.98,1235.18,26.55086631421,0,-7.79278790112585,8.50459870416671,9.24666617065668,7.2502137394622,-7.24539432208985,2.93258150108159,-4.88291351590306,6.27273174934089,-0.498261679895222,18.1949716527015,0,2.93258150108159,16,8,\"ICE CREAM\",12,19,90,0,-21.6780343415995,14.8811734750961,0,0,2.38098775601537,0,0.148811734750961,0,0,0,0,0,16,0,0,0,0,0,0,0,0,0,0,0,0,45.9222555459782,48.3032433019936,0.18820596535237,0,0,64,0,128,52,0,0,0,0,0,10.320171697125,0,30.2448613978186,5.35722245103459,0,0,0\r",
      "\r\n",
      "\"3\",1,101,48,28235481967,995242,1,1.89,\"MILK\",\"MILK\",64,70,42.5,2,2,0,122,244,7,403,655,9.35714285714286,4.65330088321515,430.100857142857,327.762474692644,50,51,4,2,-25,1,-0.6106158426811,70,975,2470.36,24077.96,12038.98,1235.18,26.55086631421,0,-7.79278790112585,8.50459870416671,9.24666617065668,7.2502137394622,-7.24539432208985,2.93258150108159,-4.88291351590306,6.27273174934089,-0.498261679895222,26.1793632525951,1,-7.24539432208985,64,32,\"MILK\",12,20,7,50,18.143989835229,23.6287979670458,23.6287979670458,15.1224306989093,15.1224306989093,0.236287979670458,0.236287979670458,0,0,0,0,64,0,0,0,0,0,0,0,0,15.1224306989093,0,0,0,0,45.9222555459782,48.3032433019936,0.18820596535237,0,0,64,0,128,52,0,0,0,0,0,10.320171697125,0,30.2448613978186,5.35722245103459,0,0,0\r",
      "\r\n",
      "\"4\",1,101,64,28235481967,931136,1,1.69,\"DAIRY\",\"YOGURT\",10,70,42.5,2,2,0,122,244,7,403,655,9.35714285714286,4.65330088321515,430.100857142857,327.762474692644,50,51,4,2,-25,1,-0.6106158426811,70,975,2470.36,24077.96,12038.98,1235.18,26.55086631421,0,-7.79278790112585,8.50459870416671,9.24666617065668,7.2502137394622,-7.24539432208985,2.93258150108159,-4.88291351590306,6.27273174934089,-0.498261679895222,31.3187195919454,1,2.93258150108159,10,5,\"YOGURT\",12,19,10,0,-21.6780343415995,14.8811734750961,14.8811734750961,1.48811734750961,1.48811734750961,0.148811734750961,0.148811734750961,0,0,0,0,0,10,0,0,0,0,0,0,0,0,1.48811734750961,0,0,0,45.9222555459782,48.3032433019936,0.18820596535237,0,0,64,0,128,52,0,0,0,0,0,10.320171697125,0,30.2448613978186,5.35722245103459,0,0,0\r",
      "\r\n",
      "\"5\",1,101,64,28235481967,931136,1,1.69,\"DAIRY\",\"YOGURT\",10,70,42.5,2,2,0,122,244,7,403,655,9.35714285714286,4.65330088321515,430.100857142857,327.762474692644,50,51,4,2,-25,1,-0.6106158426811,70,975,2470.36,24077.96,12038.98,1235.18,26.55086631421,0,-7.79278790112585,8.50459870416671,9.24666617065668,7.2502137394622,-7.24539432208985,2.93258150108159,-4.88291351590306,6.27273174934089,-0.498261679895222,52.9804455116391,1,2.93258150108159,10,5,\"YOGURT\",12,19,10,0,-21.6780343415995,14.8811734750961,14.8811734750961,1.48811734750961,1.48811734750961,0.148811734750961,0.148811734750961,0,0,0,0,0,10,0,0,0,0,0,0,0,0,1.48811734750961,0,0,0,45.9222555459782,48.3032433019936,0.18820596535237,0,0,64,0,128,52,0,0,0,0,0,10.320171697125,0,30.2448613978186,5.35722245103459,0,0,0\r",
      "\r\n",
      "\"6\",1,101,31,28235481967,5577022,1,3.69,\"FRESH VEGETABLES\",\"CUCUMBERS\",32,70,42.5,2,2,0,122,244,7,403,655,9.35714285714286,4.65330088321515,430.100857142857,327.762474692644,50,51,4,2,-25,1,-0.6106158426811,70,975,2470.36,24077.96,12038.98,1235.18,26.55086631421,0,-7.79278790112585,8.50459870416671,9.24666617065668,7.2502137394622,-7.24539432208985,2.93258150108159,-4.88291351590306,6.27273174934089,-0.498261679895222,67.8553835256025,1,9.24666617065668,32,16,\"CUCUMBER\",6.17,18.83,5,1,-14.3639496720244,16.1252682767578,16.1252682767578,5.1600858485625,5.1600858485625,0.161252682767578,0.161252682767578,0,0,32,0,0,0,0,0,0,0,0,5.1600858485625,0,0,0,0,0,0,45.9222555459782,48.3032433019936,0.18820596535237,0,0,64,0,128,52,0,0,0,0,0,10.320171697125,0,30.2448613978186,5.35722245103459,0,0,0\r",
      "\r\n",
      "\"7\",1,101,31,28235481967,5577022,1,3.69,\"FRESH VEGETABLES\",\"CUCUMBERS\",32,70,42.5,2,2,0,122,244,7,403,655,9.35714285714286,4.65330088321515,430.100857142857,327.762474692644,50,51,4,2,-25,1,-0.6106158426811,70,975,2470.36,24077.96,12038.98,1235.18,26.55086631421,0,-7.79278790112585,8.50459870416671,9.24666617065668,7.2502137394622,-7.24539432208985,2.93258150108159,-4.88291351590306,6.27273174934089,-0.498261679895222,69.1273411735892,1,9.24666617065668,32,16,\"CUCUMBER\",6.17,18.83,5,1,-14.3639496720244,16.1252682767578,16.1252682767578,5.1600858485625,5.1600858485625,0.161252682767578,0.161252682767578,0,0,32,0,0,0,0,0,0,0,0,5.1600858485625,0,0,0,0,0,0,45.9222555459782,48.3032433019936,0.18820596535237,0,0,64,0,128,52,0,0,0,0,0,10.320171697125,0,30.2448613978186,5.35722245103459,0,0,0\r",
      "\r\n",
      "\"8\",1,101,48,28235481967,995242,1,1.89,\"MILK\",\"MILK\",64,70,42.5,2,2,0,122,244,7,403,655,9.35714285714286,4.65330088321515,430.100857142857,327.762474692644,50,51,4,2,-25,1,-0.6106158426811,70,975,2470.36,24077.96,12038.98,1235.18,26.55086631421,0,-7.79278790112585,8.50459870416671,9.24666617065668,7.2502137394622,-7.24539432208985,2.93258150108159,-4.88291351590306,6.27273174934089,-0.498261679895222,80.1678828895092,1,-7.24539432208985,64,32,\"MILK\",12,20,7,50,18.143989835229,23.6287979670458,23.6287979670458,15.1224306989093,15.1224306989093,0.236287979670458,0.236287979670458,0,0,0,0,64,0,0,0,0,0,0,0,0,15.1224306989093,0,0,0,0,45.9222555459782,48.3032433019936,0.18820596535237,0,0,64,0,128,52,0,0,0,0,0,10.320171697125,0,30.2448613978186,5.35722245103459,0,0,0\r",
      "\r\n",
      "\"9\",1,108,57,28282581446,1056509,1,2.19,\"DAIRY\",\"CREAM\",16,70,42.5,2,2,0,96,192,7,244,655,9.35714285714286,4.65330088321515,430.100857142857,327.762474692644,50,58,4,2,-25,1,-0.6106158426811,70,975,2470.36,24077.96,12038.98,1235.18,26.55086631421,0,-7.79278790112585,8.50459870416671,9.24666617065668,7.2502137394622,-7.24539432208985,2.93258150108159,-4.88291351590306,6.27273174934089,-0.498261679895222,22.9959039483219,0,2.93258150108159,16,8,\"CREAM\",12,19,4,1,-20.6780343415995,15.0711734750961,0,0,2.41138775601538,0,0.150711734750961,0,0,0,0,0,16,0,0,0,0,0,0,0,0,0,0,0,0,84.1652565745288,40.3305131490576,0.438360711325671,0,0,0,0,128,32,32,0,0,0,0,0,0,79.1224306989093,2.41138775601538,2.6314381196041,0,0\r",
      "\r\n"
     ]
    }
   ],
   "source": [
    "!head ../data/Purch_complete.csv"
   ]
  },
  {
   "cell_type": "code",
   "execution_count": 2,
   "metadata": {
    "collapsed": false
   },
   "outputs": [],
   "source": [
    "df = pd.read_csv('../data/Purch_complete.csv')"
   ]
  },
  {
   "cell_type": "code",
   "execution_count": 3,
   "metadata": {
    "collapsed": false
   },
   "outputs": [
    {
     "data": {
      "text/html": [
       "<div>\n",
       "<table border=\"1\" class=\"dataframe\">\n",
       "  <thead>\n",
       "    <tr style=\"text-align: right;\">\n",
       "      <th></th>\n",
       "      <th>Unnamed: 0</th>\n",
       "      <th>household_key</th>\n",
       "      <th>day</th>\n",
       "      <th>classifcation</th>\n",
       "      <th>basket_id</th>\n",
       "      <th>product_id</th>\n",
       "      <th>quantity</th>\n",
       "      <th>pre_coupon</th>\n",
       "      <th>category</th>\n",
       "      <th>classification</th>\n",
       "      <th>...</th>\n",
       "      <th>total_fish_trip</th>\n",
       "      <th>wasted_ff_trip</th>\n",
       "      <th>wasted_pf_trip</th>\n",
       "      <th>wasted_fv_trip</th>\n",
       "      <th>wasted_pv_trip</th>\n",
       "      <th>wasted_milk_trip</th>\n",
       "      <th>wasted_dairy_trip</th>\n",
       "      <th>wasted_meat_trip</th>\n",
       "      <th>wasted_fowl_trip</th>\n",
       "      <th>wasted_fish_trip</th>\n",
       "    </tr>\n",
       "  </thead>\n",
       "  <tbody>\n",
       "    <tr>\n",
       "      <th>0</th>\n",
       "      <td>1</td>\n",
       "      <td>1</td>\n",
       "      <td>101</td>\n",
       "      <td>60</td>\n",
       "      <td>2.823548e+10</td>\n",
       "      <td>7441419</td>\n",
       "      <td>1</td>\n",
       "      <td>4.79</td>\n",
       "      <td>DAIRY</td>\n",
       "      <td>ICE CREAM</td>\n",
       "      <td>...</td>\n",
       "      <td>0.0</td>\n",
       "      <td>0.0</td>\n",
       "      <td>0.0</td>\n",
       "      <td>10.320172</td>\n",
       "      <td>0.0</td>\n",
       "      <td>30.244861</td>\n",
       "      <td>5.357222</td>\n",
       "      <td>0.0</td>\n",
       "      <td>0.0</td>\n",
       "      <td>0.0</td>\n",
       "    </tr>\n",
       "    <tr>\n",
       "      <th>1</th>\n",
       "      <td>2</td>\n",
       "      <td>1</td>\n",
       "      <td>101</td>\n",
       "      <td>60</td>\n",
       "      <td>2.823548e+10</td>\n",
       "      <td>7441419</td>\n",
       "      <td>1</td>\n",
       "      <td>4.79</td>\n",
       "      <td>DAIRY</td>\n",
       "      <td>ICE CREAM</td>\n",
       "      <td>...</td>\n",
       "      <td>0.0</td>\n",
       "      <td>0.0</td>\n",
       "      <td>0.0</td>\n",
       "      <td>10.320172</td>\n",
       "      <td>0.0</td>\n",
       "      <td>30.244861</td>\n",
       "      <td>5.357222</td>\n",
       "      <td>0.0</td>\n",
       "      <td>0.0</td>\n",
       "      <td>0.0</td>\n",
       "    </tr>\n",
       "    <tr>\n",
       "      <th>2</th>\n",
       "      <td>3</td>\n",
       "      <td>1</td>\n",
       "      <td>101</td>\n",
       "      <td>48</td>\n",
       "      <td>2.823548e+10</td>\n",
       "      <td>995242</td>\n",
       "      <td>1</td>\n",
       "      <td>1.89</td>\n",
       "      <td>MILK</td>\n",
       "      <td>MILK</td>\n",
       "      <td>...</td>\n",
       "      <td>0.0</td>\n",
       "      <td>0.0</td>\n",
       "      <td>0.0</td>\n",
       "      <td>10.320172</td>\n",
       "      <td>0.0</td>\n",
       "      <td>30.244861</td>\n",
       "      <td>5.357222</td>\n",
       "      <td>0.0</td>\n",
       "      <td>0.0</td>\n",
       "      <td>0.0</td>\n",
       "    </tr>\n",
       "    <tr>\n",
       "      <th>3</th>\n",
       "      <td>4</td>\n",
       "      <td>1</td>\n",
       "      <td>101</td>\n",
       "      <td>64</td>\n",
       "      <td>2.823548e+10</td>\n",
       "      <td>931136</td>\n",
       "      <td>1</td>\n",
       "      <td>1.69</td>\n",
       "      <td>DAIRY</td>\n",
       "      <td>YOGURT</td>\n",
       "      <td>...</td>\n",
       "      <td>0.0</td>\n",
       "      <td>0.0</td>\n",
       "      <td>0.0</td>\n",
       "      <td>10.320172</td>\n",
       "      <td>0.0</td>\n",
       "      <td>30.244861</td>\n",
       "      <td>5.357222</td>\n",
       "      <td>0.0</td>\n",
       "      <td>0.0</td>\n",
       "      <td>0.0</td>\n",
       "    </tr>\n",
       "    <tr>\n",
       "      <th>4</th>\n",
       "      <td>5</td>\n",
       "      <td>1</td>\n",
       "      <td>101</td>\n",
       "      <td>64</td>\n",
       "      <td>2.823548e+10</td>\n",
       "      <td>931136</td>\n",
       "      <td>1</td>\n",
       "      <td>1.69</td>\n",
       "      <td>DAIRY</td>\n",
       "      <td>YOGURT</td>\n",
       "      <td>...</td>\n",
       "      <td>0.0</td>\n",
       "      <td>0.0</td>\n",
       "      <td>0.0</td>\n",
       "      <td>10.320172</td>\n",
       "      <td>0.0</td>\n",
       "      <td>30.244861</td>\n",
       "      <td>5.357222</td>\n",
       "      <td>0.0</td>\n",
       "      <td>0.0</td>\n",
       "      <td>0.0</td>\n",
       "    </tr>\n",
       "  </tbody>\n",
       "</table>\n",
       "<p>5 rows × 105 columns</p>\n",
       "</div>"
      ],
      "text/plain": [
       "   Unnamed: 0  household_key  day  classifcation     basket_id  product_id  \\\n",
       "0           1              1  101             60  2.823548e+10     7441419   \n",
       "1           2              1  101             60  2.823548e+10     7441419   \n",
       "2           3              1  101             48  2.823548e+10      995242   \n",
       "3           4              1  101             64  2.823548e+10      931136   \n",
       "4           5              1  101             64  2.823548e+10      931136   \n",
       "\n",
       "   quantity  pre_coupon category classification        ...         \\\n",
       "0         1        4.79    DAIRY      ICE CREAM        ...          \n",
       "1         1        4.79    DAIRY      ICE CREAM        ...          \n",
       "2         1        1.89     MILK           MILK        ...          \n",
       "3         1        1.69    DAIRY         YOGURT        ...          \n",
       "4         1        1.69    DAIRY         YOGURT        ...          \n",
       "\n",
       "   total_fish_trip  wasted_ff_trip  wasted_pf_trip  wasted_fv_trip  \\\n",
       "0              0.0             0.0             0.0       10.320172   \n",
       "1              0.0             0.0             0.0       10.320172   \n",
       "2              0.0             0.0             0.0       10.320172   \n",
       "3              0.0             0.0             0.0       10.320172   \n",
       "4              0.0             0.0             0.0       10.320172   \n",
       "\n",
       "   wasted_pv_trip  wasted_milk_trip  wasted_dairy_trip  wasted_meat_trip  \\\n",
       "0             0.0         30.244861           5.357222               0.0   \n",
       "1             0.0         30.244861           5.357222               0.0   \n",
       "2             0.0         30.244861           5.357222               0.0   \n",
       "3             0.0         30.244861           5.357222               0.0   \n",
       "4             0.0         30.244861           5.357222               0.0   \n",
       "\n",
       "   wasted_fowl_trip  wasted_fish_trip  \n",
       "0               0.0               0.0  \n",
       "1               0.0               0.0  \n",
       "2               0.0               0.0  \n",
       "3               0.0               0.0  \n",
       "4               0.0               0.0  \n",
       "\n",
       "[5 rows x 105 columns]"
      ]
     },
     "execution_count": 3,
     "metadata": {},
     "output_type": "execute_result"
    }
   ],
   "source": [
    "df.head()"
   ]
  },
  {
   "cell_type": "code",
   "execution_count": 4,
   "metadata": {
    "collapsed": false
   },
   "outputs": [
    {
     "data": {
      "text/plain": [
       "DAIRY                   52505\n",
       "MEAT                    43965\n",
       "PROCESSED VEGETABLES    38583\n",
       "PROCESSED FRUIT         31590\n",
       "FRESH VEGETABLES        24835\n",
       "FISH                    19698\n",
       "MILK                    18509\n",
       "FRESH FRUIT             11598\n",
       "FOWL                    10391\n",
       "Name: category, dtype: int64"
      ]
     },
     "execution_count": 4,
     "metadata": {},
     "output_type": "execute_result"
    }
   ],
   "source": [
    "df['category'].value_counts()"
   ]
  },
  {
   "cell_type": "code",
   "execution_count": 39,
   "metadata": {
    "collapsed": false
   },
   "outputs": [
    {
     "data": {
      "text/plain": [
       "MILK                             18314\n",
       "COLD JUICE                       14560\n",
       "CHIPS                            12593\n",
       "FROZEN VEGETABLES                11430\n",
       "YOGURT                           11178\n",
       "CANNED JUICE                     10588\n",
       "PROCESSED CHEESE                  8715\n",
       "HARD CHEESE                       8654\n",
       "BEEF                              8632\n",
       "ICE CREAM                         8519\n",
       "FROZEN MEAT                       8085\n",
       "LETTUCE LEAF                      7647\n",
       "POTATOES                          5089\n",
       "HOT DOGS                          4713\n",
       "APPLES WHOLE                      4384\n",
       "PORK                              4378\n",
       "CANNED FISH                       4247\n",
       "CANNED VEGETABLE                  3811\n",
       "FRESH FISH                        3496\n",
       "SHREDDED CHEESE                   3282\n",
       "SEAFOOD-FRZ-MISC                  3281\n",
       "PARTED CHICKEN                    3223\n",
       "PICKLES                           3111\n",
       "CANNED MEAT                       3092\n",
       "COOKED SAUSAGE                    3024\n",
       "COOKED BEEF                       2954\n",
       "COOKED PORK                       2712\n",
       "FROZEN FISHSTICKS                 2606\n",
       "CANNED FRUIT                      2551\n",
       "BEANS                             2507\n",
       "                                 ...  \n",
       "BUTTERMILK                         195\n",
       "FRZN MISC SEAFOOD                  156\n",
       "CORN                               143\n",
       "GREEN ONIONS                       114\n",
       "HONEYDEW WHOLE                     112\n",
       "FROZEN POULTRY                     106\n",
       "FRZN BRD STICK/PORTON              102\n",
       "PLUMS                               86\n",
       "CUT VEGETABLES                      81\n",
       "BANANAS                             81\n",
       "CANTALOUPE HALVES                   77\n",
       "GRAPES                              70\n",
       "CANTALOUPE WHOLE                    59\n",
       "CANNED MILK                         59\n",
       "FRZN CORN ON THE COB                57\n",
       "PEARS                               55\n",
       "GROUND TURKEY                       47\n",
       "SEAFOOD-FRZ-BRD WHOLE FILLETS       44\n",
       "TANGERINES                          37\n",
       "MANGO                               35\n",
       "CANNED HAM                          35\n",
       "ASPARAGUS                           29\n",
       "SEAFOOD-FRZ-RAW FILLETS             23\n",
       "APRICOTS                            17\n",
       "CEREAL                              15\n",
       "CUT FRUIT                           13\n",
       "CANNED FOWL                          9\n",
       "FRZN BRD WHOLE FILLETS               5\n",
       "GROUND PORK                          2\n",
       "FRZN GRILLED PORTIONS                1\n",
       "Name: classification, dtype: int64"
      ]
     },
     "execution_count": 39,
     "metadata": {},
     "output_type": "execute_result"
    }
   ],
   "source": [
    "df['classification'].value_counts()"
   ]
  },
  {
   "cell_type": "code",
   "execution_count": 35,
   "metadata": {
    "collapsed": false
   },
   "outputs": [
    {
     "data": {
      "text/plain": [
       "array(['household_key', 'day', 'classifcation', 'basket_id', 'product_id',\n",
       "       'quantity', 'pre_coupon', 'category', 'classification', 'sized',\n",
       "       'age', 'income', 'household_count', 'adult_count', 'kid_count',\n",
       "       'per_capita_size_trip', 'total_trip_size', 'previous_shop_date',\n",
       "       'previous_shop_size', 'spread', 'days_between_avg',\n",
       "       'days_between_stdev', 'avg_trip_size', 'avg_size_stdev',\n",
       "       'first_trip_adjust', 'adjusted_day', 'month', 'adjusted_month',\n",
       "       'age_mult', 'household_mult', 'income_mult', 'shop_trip_count',\n",
       "       'product_count', 'total_spent', 'total_size',\n",
       "       'per_capita_size_total', 'per_capita_cost_total',\n",
       "       'random_number_hh', 'personal_mult', 'random_number_ff',\n",
       "       'random_number_pf', 'random_number_fv', 'random_number_pv',\n",
       "       'random_number_milk', 'random_number_dairy', 'random_number_meat',\n",
       "       'random_number_fowl', 'random_number_fish', 'random_number_item',\n",
       "       'random_effect', 'type_mult', 'total_item_size',\n",
       "       'per_capita_item_size', 'categorization', 'retailer', 'consumer',\n",
       "       'duration', 'time_loss', 'total_mult', 'food_loss_no_alter',\n",
       "       'food_loss', 'wasted', 'wasted_no_alter', 'wasted_perc',\n",
       "       'wasted_perc_no_alter', 'total_ff', 'total_pf', 'total_fv',\n",
       "       'total_pv', 'total_milk', 'total_dairy', 'total_meat', 'total_fowl',\n",
       "       'total_fish', 'wasted_ff', 'wasted_pf', 'wasted_fv', 'wasted_pv',\n",
       "       'wasted_milk', 'wasted_dairy', 'wasted_meat', 'wasted_fowl',\n",
       "       'wasted_fish', 'wasted_trip', 'wasted_no_alter_trip',\n",
       "       'wasted_perc_trip', 'total_ff_trip', 'total_pf_trip',\n",
       "       'total_fv_trip', 'total_pv_trip', 'total_milk_trip',\n",
       "       'total_dairy_trip', 'total_meat_trip', 'total_fowl_trip',\n",
       "       'total_fish_trip', 'wasted_ff_trip', 'wasted_pf_trip',\n",
       "       'wasted_fv_trip', 'wasted_pv_trip', 'wasted_milk_trip',\n",
       "       'wasted_dairy_trip', 'wasted_meat_trip', 'wasted_fowl_trip',\n",
       "       'wasted_fish_trip'], dtype=object)"
      ]
     },
     "execution_count": 35,
     "metadata": {},
     "output_type": "execute_result"
    }
   ],
   "source": [
    "df.columns.values"
   ]
  },
  {
   "cell_type": "code",
   "execution_count": 27,
   "metadata": {
    "collapsed": true
   },
   "outputs": [],
   "source": [
    "df = df[df.columns.values[1:]]"
   ]
  },
  {
   "cell_type": "code",
   "execution_count": 31,
   "metadata": {
    "collapsed": true
   },
   "outputs": [],
   "source": [
    "mapper = DataFrameMapper([\n",
    "            (\"household_key\", sklearn.preprocessing.LabelBinarizer()),\n",
    "            (\"day\", None),\n",
    "            (\"classifcation\", None),\n",
    "            (\"basket_id\", CategoricalImputer()),\n",
    "            (\"product_id\", CategoricalImputer()),\n",
    "            (\"quantity\", None),\n",
    "            (\"pre_coupon\", None),\n",
    "            (\"category\", CategoricalImputer()),\n",
    "            (\"classification\", CategoricalImputer()),\n",
    "            (\"sized\", None),\n",
    "            (\"age\", None),\n",
    "            (\"income\", None),\n",
    "            (\"household_count\", None),\n",
    "            (\"adult_count\", None),\n",
    "            (\"kid_count\", None),\n",
    "            (\"per_capita_size_trip\", None),\n",
    "            (\"total_trip_size\", None),\n",
    "            (\"previous_shop_date\", None),\n",
    "            (\"previous_shop_size\", None),\n",
    "            (\"spread\", None),\n",
    "            (\"days_between_avg\", None),\n",
    "            (\"days_between_stdev\", None),\n",
    "            (\"avg_trip_size\", None),\n",
    "            (\"avg_size_stdev\", None),\n",
    "            (\"first_trip_adjust\", None),\n",
    "            (\"adjusted_day\", None),\n",
    "            (\"month\", None),\n",
    "            (\"adjusted_month\", None),\n",
    "            (\"age_mult\", None),\n",
    "            (\"household_mult\", None),\n",
    "            (\"income_mult\", None),\n",
    "            (\"shop_trip_count\", None),\n",
    "            (\"product_count\", None),\n",
    "            (\"total_spent\", None),\n",
    "            (\"total_size\", None),\n",
    "            (\"per_capita_size_total\", None),\n",
    "            (\"per_capita_cost_total\", None),\n",
    "            (\"random_number_hh\", None),\n",
    "            (\"personal_mult\", None),\n",
    "            (\"random_number_ff\", None),\n",
    "            (\"random_number_pf\", None),\n",
    "            (\"random_number_fv\", None),\n",
    "            (\"random_number_pv\", None),\n",
    "            (\"random_number_milk\", None),\n",
    "            (\"random_number_dairy\", None),\n",
    "            (\"random_number_meat\", None),\n",
    "            (\"random_number_fowl\", None),\n",
    "            (\"random_number_fish\", None),\n",
    "            (\"random_number_item\", None),\n",
    "            (\"random_effect\", None),\n",
    "            (\"type_mult\", None),\n",
    "            (\"total_item_size\", None),\n",
    "            (\"per_capita_item_size\", None),\n",
    "            (\"categorization\", CategoricalImputer()),\n",
    "            (\"retailer\", None),\n",
    "            (\"consumer\", None),\n",
    "            (\"duration\", None),\n",
    "            (\"time_loss\", None),\n",
    "            (\"total_mult\", None),\n",
    "            (\"food_loss_no_alter\", None),\n",
    "            (\"food_loss\", None),\n",
    "            (\"wasted\", None),\n",
    "            (\"wasted_no_alter\", None),\n",
    "            (\"wasted_perc\", None),\n",
    "            (\"wasted_perc_no_alter\", None),\n",
    "            (\"total_ff\", None),\n",
    "            (\"total_pf\", None),\n",
    "            (\"total_fv\", None),\n",
    "            (\"total_pv\", None),\n",
    "            (\"total_milk\", None),\n",
    "            (\"total_dairy\", None),\n",
    "            (\"total_meat\", None),\n",
    "            (\"total_fowl\", None),\n",
    "            (\"total_fish\", None),\n",
    "            (\"wasted_ff\", None),\n",
    "            (\"wasted_pf\", None),\n",
    "            (\"wasted_fv\", None),\n",
    "            (\"wasted_pv\", None),\n",
    "            (\"wasted_milk\", None),\n",
    "            (\"wasted_dairy\", None),\n",
    "            (\"wasted_meat\", None),\n",
    "            (\"wasted_fowl\", None),\n",
    "            (\"wasted_fish\", None),\n",
    "            (\"wasted_trip\", None),\n",
    "            (\"wasted_no_alter_trip\", None),\n",
    "            (\"wasted_perc_trip\", None),\n",
    "            (\"total_ff_trip\", None),\n",
    "            (\"total_pf_trip\", None),\n",
    "            (\"total_fv_trip\", None),\n",
    "            (\"total_pv_trip\", None),\n",
    "            (\"total_milk_trip\", None),\n",
    "            (\"total_dairy_trip\", None),\n",
    "            (\"total_meat_trip\", None),\n",
    "            (\"total_fowl_trip\", None),\n",
    "            (\"total_fish_trip\", None),\n",
    "            (\"wasted_ff_trip\", None),\n",
    "            (\"wasted_pf_trip\", None),\n",
    "            (\"wasted_fv_trip\", None),\n",
    "            (\"wasted_pv_trip\", None),\n",
    "            (\"wasted_milk_trip\", None),\n",
    "            (\"wasted_dairy_trip\", None),\n",
    "            (\"wasted_meat_trip\", None),\n",
    "            (\"wasted_fowl_trip\", None),\n",
    "            (\"wasted_fish_trip\", None)\n",
    "        ])"
   ]
  },
  {
   "cell_type": "code",
   "execution_count": 32,
   "metadata": {
    "collapsed": false
   },
   "outputs": [
    {
     "data": {
      "text/plain": [
       "array([[1, 0, 0, ..., 0.0, 0.0, 0.0],\n",
       "       [1, 0, 0, ..., 0.0, 0.0, 0.0],\n",
       "       [1, 0, 0, ..., 0.0, 0.0, 0.0],\n",
       "       ..., \n",
       "       [0, 0, 0, ..., 16.06294, 0.0, 0.0],\n",
       "       [0, 0, 0, ..., 16.06294, 0.0, 0.0],\n",
       "       [0, 0, 0, ..., 16.06294, 0.0, 0.0]], dtype=object)"
      ]
     },
     "execution_count": 32,
     "metadata": {},
     "output_type": "execute_result"
    }
   ],
   "source": [
    "mapper.fit_transform(df)"
   ]
  },
  {
   "cell_type": "code",
   "execution_count": 34,
   "metadata": {
    "collapsed": false
   },
   "outputs": [
    {
     "name": "stderr",
     "output_type": "stream",
     "text": [
      "/Users/chu/anaconda/envs/py2/lib/python2.7/site-packages/sklearn/base.py:122: DeprecationWarning: Estimator DataFrameMapper modifies parameters in __init__. This behavior is deprecated as of 0.18 and support for this behavior will be removed in 0.20.\n",
      "  % type(estimator).__name__, DeprecationWarning)\n"
     ]
    },
    {
     "ename": "KeyboardInterrupt",
     "evalue": "",
     "output_type": "error",
     "traceback": [
      "\u001b[0;31m---------------------------------------------------------------------------\u001b[0m",
      "\u001b[0;31mKeyboardInterrupt\u001b[0m                         Traceback (most recent call last)",
      "\u001b[0;32m<ipython-input-34-8260b16b32a3>\u001b[0m in \u001b[0;36m<module>\u001b[0;34m()\u001b[0m\n\u001b[1;32m      2\u001b[0m         \u001b[0;34m(\u001b[0m\u001b[0;34m'featurize'\u001b[0m\u001b[0;34m,\u001b[0m \u001b[0mmapper\u001b[0m\u001b[0;34m)\u001b[0m\u001b[0;34m,\u001b[0m\u001b[0;34m\u001b[0m\u001b[0m\n\u001b[1;32m      3\u001b[0m         ('lm', sklearn.linear_model.LinearRegression())])\n\u001b[0;32m----> 4\u001b[0;31m \u001b[0;32mprint\u001b[0m\u001b[0;34m(\u001b[0m\u001b[0mnp\u001b[0m\u001b[0;34m.\u001b[0m\u001b[0mround\u001b[0m\u001b[0;34m(\u001b[0m\u001b[0mcross_val_score\u001b[0m\u001b[0;34m(\u001b[0m\u001b[0mpipe\u001b[0m\u001b[0;34m,\u001b[0m \u001b[0mX\u001b[0m\u001b[0;34m=\u001b[0m\u001b[0mdf\u001b[0m\u001b[0;34m.\u001b[0m\u001b[0mcopy\u001b[0m\u001b[0;34m(\u001b[0m\u001b[0;34m)\u001b[0m\u001b[0;34m,\u001b[0m \u001b[0my\u001b[0m\u001b[0;34m=\u001b[0m\u001b[0mdf\u001b[0m\u001b[0;34m.\u001b[0m\u001b[0mfood_loss\u001b[0m\u001b[0;34m,\u001b[0m \u001b[0mscoring\u001b[0m\u001b[0;34m=\u001b[0m\u001b[0;34m'r2'\u001b[0m\u001b[0;34m)\u001b[0m\u001b[0;34m,\u001b[0m \u001b[0;36m2\u001b[0m\u001b[0;34m)\u001b[0m\u001b[0;34m)\u001b[0m\u001b[0;34m\u001b[0m\u001b[0m\n\u001b[0m",
      "\u001b[0;32m/Users/chu/anaconda/envs/py2/lib/python2.7/site-packages/sklearn_pandas/cross_validation.pyc\u001b[0m in \u001b[0;36mcross_val_score\u001b[0;34m(model, X, *args, **kwargs)\u001b[0m\n\u001b[1;32m     19\u001b[0m     \u001b[0mwarnings\u001b[0m\u001b[0;34m.\u001b[0m\u001b[0mwarn\u001b[0m\u001b[0;34m(\u001b[0m\u001b[0mDEPRECATION_MSG\u001b[0m\u001b[0;34m,\u001b[0m \u001b[0mDeprecationWarning\u001b[0m\u001b[0;34m)\u001b[0m\u001b[0;34m\u001b[0m\u001b[0m\n\u001b[1;32m     20\u001b[0m     \u001b[0mX\u001b[0m \u001b[0;34m=\u001b[0m \u001b[0mDataWrapper\u001b[0m\u001b[0;34m(\u001b[0m\u001b[0mX\u001b[0m\u001b[0;34m)\u001b[0m\u001b[0;34m\u001b[0m\u001b[0m\n\u001b[0;32m---> 21\u001b[0;31m     \u001b[0;32mreturn\u001b[0m \u001b[0msk_cross_val_score\u001b[0m\u001b[0;34m(\u001b[0m\u001b[0mmodel\u001b[0m\u001b[0;34m,\u001b[0m \u001b[0mX\u001b[0m\u001b[0;34m,\u001b[0m \u001b[0;34m*\u001b[0m\u001b[0margs\u001b[0m\u001b[0;34m,\u001b[0m \u001b[0;34m**\u001b[0m\u001b[0mkwargs\u001b[0m\u001b[0;34m)\u001b[0m\u001b[0;34m\u001b[0m\u001b[0m\n\u001b[0m\u001b[1;32m     22\u001b[0m \u001b[0;34m\u001b[0m\u001b[0m\n\u001b[1;32m     23\u001b[0m \u001b[0;34m\u001b[0m\u001b[0m\n",
      "\u001b[0;32m/Users/chu/anaconda/envs/py2/lib/python2.7/site-packages/sklearn/model_selection/_validation.pyc\u001b[0m in \u001b[0;36mcross_val_score\u001b[0;34m(estimator, X, y, groups, scoring, cv, n_jobs, verbose, fit_params, pre_dispatch)\u001b[0m\n\u001b[1;32m    138\u001b[0m                                               \u001b[0mtrain\u001b[0m\u001b[0;34m,\u001b[0m \u001b[0mtest\u001b[0m\u001b[0;34m,\u001b[0m \u001b[0mverbose\u001b[0m\u001b[0;34m,\u001b[0m \u001b[0mNone\u001b[0m\u001b[0;34m,\u001b[0m\u001b[0;34m\u001b[0m\u001b[0m\n\u001b[1;32m    139\u001b[0m                                               fit_params)\n\u001b[0;32m--> 140\u001b[0;31m                       for train, test in cv_iter)\n\u001b[0m\u001b[1;32m    141\u001b[0m     \u001b[0;32mreturn\u001b[0m \u001b[0mnp\u001b[0m\u001b[0;34m.\u001b[0m\u001b[0marray\u001b[0m\u001b[0;34m(\u001b[0m\u001b[0mscores\u001b[0m\u001b[0;34m)\u001b[0m\u001b[0;34m[\u001b[0m\u001b[0;34m:\u001b[0m\u001b[0;34m,\u001b[0m \u001b[0;36m0\u001b[0m\u001b[0;34m]\u001b[0m\u001b[0;34m\u001b[0m\u001b[0m\n\u001b[1;32m    142\u001b[0m \u001b[0;34m\u001b[0m\u001b[0m\n",
      "\u001b[0;32m/Users/chu/anaconda/envs/py2/lib/python2.7/site-packages/sklearn/externals/joblib/parallel.pyc\u001b[0m in \u001b[0;36m__call__\u001b[0;34m(self, iterable)\u001b[0m\n\u001b[1;32m    756\u001b[0m             \u001b[0;31m# was dispatched. In particular this covers the edge\u001b[0m\u001b[0;34m\u001b[0m\u001b[0;34m\u001b[0m\u001b[0m\n\u001b[1;32m    757\u001b[0m             \u001b[0;31m# case of Parallel used with an exhausted iterator.\u001b[0m\u001b[0;34m\u001b[0m\u001b[0;34m\u001b[0m\u001b[0m\n\u001b[0;32m--> 758\u001b[0;31m             \u001b[0;32mwhile\u001b[0m \u001b[0mself\u001b[0m\u001b[0;34m.\u001b[0m\u001b[0mdispatch_one_batch\u001b[0m\u001b[0;34m(\u001b[0m\u001b[0miterator\u001b[0m\u001b[0;34m)\u001b[0m\u001b[0;34m:\u001b[0m\u001b[0;34m\u001b[0m\u001b[0m\n\u001b[0m\u001b[1;32m    759\u001b[0m                 \u001b[0mself\u001b[0m\u001b[0;34m.\u001b[0m\u001b[0m_iterating\u001b[0m \u001b[0;34m=\u001b[0m \u001b[0mTrue\u001b[0m\u001b[0;34m\u001b[0m\u001b[0m\n\u001b[1;32m    760\u001b[0m             \u001b[0;32melse\u001b[0m\u001b[0;34m:\u001b[0m\u001b[0;34m\u001b[0m\u001b[0m\n",
      "\u001b[0;32m/Users/chu/anaconda/envs/py2/lib/python2.7/site-packages/sklearn/externals/joblib/parallel.pyc\u001b[0m in \u001b[0;36mdispatch_one_batch\u001b[0;34m(self, iterator)\u001b[0m\n\u001b[1;32m    606\u001b[0m                 \u001b[0;32mreturn\u001b[0m \u001b[0mFalse\u001b[0m\u001b[0;34m\u001b[0m\u001b[0m\n\u001b[1;32m    607\u001b[0m             \u001b[0;32melse\u001b[0m\u001b[0;34m:\u001b[0m\u001b[0;34m\u001b[0m\u001b[0m\n\u001b[0;32m--> 608\u001b[0;31m                 \u001b[0mself\u001b[0m\u001b[0;34m.\u001b[0m\u001b[0m_dispatch\u001b[0m\u001b[0;34m(\u001b[0m\u001b[0mtasks\u001b[0m\u001b[0;34m)\u001b[0m\u001b[0;34m\u001b[0m\u001b[0m\n\u001b[0m\u001b[1;32m    609\u001b[0m                 \u001b[0;32mreturn\u001b[0m \u001b[0mTrue\u001b[0m\u001b[0;34m\u001b[0m\u001b[0m\n\u001b[1;32m    610\u001b[0m \u001b[0;34m\u001b[0m\u001b[0m\n",
      "\u001b[0;32m/Users/chu/anaconda/envs/py2/lib/python2.7/site-packages/sklearn/externals/joblib/parallel.pyc\u001b[0m in \u001b[0;36m_dispatch\u001b[0;34m(self, batch)\u001b[0m\n\u001b[1;32m    569\u001b[0m         \u001b[0mdispatch_timestamp\u001b[0m \u001b[0;34m=\u001b[0m \u001b[0mtime\u001b[0m\u001b[0;34m.\u001b[0m\u001b[0mtime\u001b[0m\u001b[0;34m(\u001b[0m\u001b[0;34m)\u001b[0m\u001b[0;34m\u001b[0m\u001b[0m\n\u001b[1;32m    570\u001b[0m         \u001b[0mcb\u001b[0m \u001b[0;34m=\u001b[0m \u001b[0mBatchCompletionCallBack\u001b[0m\u001b[0;34m(\u001b[0m\u001b[0mdispatch_timestamp\u001b[0m\u001b[0;34m,\u001b[0m \u001b[0mlen\u001b[0m\u001b[0;34m(\u001b[0m\u001b[0mbatch\u001b[0m\u001b[0;34m)\u001b[0m\u001b[0;34m,\u001b[0m \u001b[0mself\u001b[0m\u001b[0;34m)\u001b[0m\u001b[0;34m\u001b[0m\u001b[0m\n\u001b[0;32m--> 571\u001b[0;31m         \u001b[0mjob\u001b[0m \u001b[0;34m=\u001b[0m \u001b[0mself\u001b[0m\u001b[0;34m.\u001b[0m\u001b[0m_backend\u001b[0m\u001b[0;34m.\u001b[0m\u001b[0mapply_async\u001b[0m\u001b[0;34m(\u001b[0m\u001b[0mbatch\u001b[0m\u001b[0;34m,\u001b[0m \u001b[0mcallback\u001b[0m\u001b[0;34m=\u001b[0m\u001b[0mcb\u001b[0m\u001b[0;34m)\u001b[0m\u001b[0;34m\u001b[0m\u001b[0m\n\u001b[0m\u001b[1;32m    572\u001b[0m         \u001b[0mself\u001b[0m\u001b[0;34m.\u001b[0m\u001b[0m_jobs\u001b[0m\u001b[0;34m.\u001b[0m\u001b[0mappend\u001b[0m\u001b[0;34m(\u001b[0m\u001b[0mjob\u001b[0m\u001b[0;34m)\u001b[0m\u001b[0;34m\u001b[0m\u001b[0m\n\u001b[1;32m    573\u001b[0m \u001b[0;34m\u001b[0m\u001b[0m\n",
      "\u001b[0;32m/Users/chu/anaconda/envs/py2/lib/python2.7/site-packages/sklearn/externals/joblib/_parallel_backends.pyc\u001b[0m in \u001b[0;36mapply_async\u001b[0;34m(self, func, callback)\u001b[0m\n\u001b[1;32m    107\u001b[0m     \u001b[0;32mdef\u001b[0m \u001b[0mapply_async\u001b[0m\u001b[0;34m(\u001b[0m\u001b[0mself\u001b[0m\u001b[0;34m,\u001b[0m \u001b[0mfunc\u001b[0m\u001b[0;34m,\u001b[0m \u001b[0mcallback\u001b[0m\u001b[0;34m=\u001b[0m\u001b[0mNone\u001b[0m\u001b[0;34m)\u001b[0m\u001b[0;34m:\u001b[0m\u001b[0;34m\u001b[0m\u001b[0m\n\u001b[1;32m    108\u001b[0m         \u001b[0;34m\"\"\"Schedule a func to be run\"\"\"\u001b[0m\u001b[0;34m\u001b[0m\u001b[0m\n\u001b[0;32m--> 109\u001b[0;31m         \u001b[0mresult\u001b[0m \u001b[0;34m=\u001b[0m \u001b[0mImmediateResult\u001b[0m\u001b[0;34m(\u001b[0m\u001b[0mfunc\u001b[0m\u001b[0;34m)\u001b[0m\u001b[0;34m\u001b[0m\u001b[0m\n\u001b[0m\u001b[1;32m    110\u001b[0m         \u001b[0;32mif\u001b[0m \u001b[0mcallback\u001b[0m\u001b[0;34m:\u001b[0m\u001b[0;34m\u001b[0m\u001b[0m\n\u001b[1;32m    111\u001b[0m             \u001b[0mcallback\u001b[0m\u001b[0;34m(\u001b[0m\u001b[0mresult\u001b[0m\u001b[0;34m)\u001b[0m\u001b[0;34m\u001b[0m\u001b[0m\n",
      "\u001b[0;32m/Users/chu/anaconda/envs/py2/lib/python2.7/site-packages/sklearn/externals/joblib/_parallel_backends.pyc\u001b[0m in \u001b[0;36m__init__\u001b[0;34m(self, batch)\u001b[0m\n\u001b[1;32m    324\u001b[0m         \u001b[0;31m# Don't delay the application, to avoid keeping the input\u001b[0m\u001b[0;34m\u001b[0m\u001b[0;34m\u001b[0m\u001b[0m\n\u001b[1;32m    325\u001b[0m         \u001b[0;31m# arguments in memory\u001b[0m\u001b[0;34m\u001b[0m\u001b[0;34m\u001b[0m\u001b[0m\n\u001b[0;32m--> 326\u001b[0;31m         \u001b[0mself\u001b[0m\u001b[0;34m.\u001b[0m\u001b[0mresults\u001b[0m \u001b[0;34m=\u001b[0m \u001b[0mbatch\u001b[0m\u001b[0;34m(\u001b[0m\u001b[0;34m)\u001b[0m\u001b[0;34m\u001b[0m\u001b[0m\n\u001b[0m\u001b[1;32m    327\u001b[0m \u001b[0;34m\u001b[0m\u001b[0m\n\u001b[1;32m    328\u001b[0m     \u001b[0;32mdef\u001b[0m \u001b[0mget\u001b[0m\u001b[0;34m(\u001b[0m\u001b[0mself\u001b[0m\u001b[0;34m)\u001b[0m\u001b[0;34m:\u001b[0m\u001b[0;34m\u001b[0m\u001b[0m\n",
      "\u001b[0;32m/Users/chu/anaconda/envs/py2/lib/python2.7/site-packages/sklearn/externals/joblib/parallel.pyc\u001b[0m in \u001b[0;36m__call__\u001b[0;34m(self)\u001b[0m\n\u001b[1;32m    129\u001b[0m \u001b[0;34m\u001b[0m\u001b[0m\n\u001b[1;32m    130\u001b[0m     \u001b[0;32mdef\u001b[0m \u001b[0m__call__\u001b[0m\u001b[0;34m(\u001b[0m\u001b[0mself\u001b[0m\u001b[0;34m)\u001b[0m\u001b[0;34m:\u001b[0m\u001b[0;34m\u001b[0m\u001b[0m\n\u001b[0;32m--> 131\u001b[0;31m         \u001b[0;32mreturn\u001b[0m \u001b[0;34m[\u001b[0m\u001b[0mfunc\u001b[0m\u001b[0;34m(\u001b[0m\u001b[0;34m*\u001b[0m\u001b[0margs\u001b[0m\u001b[0;34m,\u001b[0m \u001b[0;34m**\u001b[0m\u001b[0mkwargs\u001b[0m\u001b[0;34m)\u001b[0m \u001b[0;32mfor\u001b[0m \u001b[0mfunc\u001b[0m\u001b[0;34m,\u001b[0m \u001b[0margs\u001b[0m\u001b[0;34m,\u001b[0m \u001b[0mkwargs\u001b[0m \u001b[0;32min\u001b[0m \u001b[0mself\u001b[0m\u001b[0;34m.\u001b[0m\u001b[0mitems\u001b[0m\u001b[0;34m]\u001b[0m\u001b[0;34m\u001b[0m\u001b[0m\n\u001b[0m\u001b[1;32m    132\u001b[0m \u001b[0;34m\u001b[0m\u001b[0m\n\u001b[1;32m    133\u001b[0m     \u001b[0;32mdef\u001b[0m \u001b[0m__len__\u001b[0m\u001b[0;34m(\u001b[0m\u001b[0mself\u001b[0m\u001b[0;34m)\u001b[0m\u001b[0;34m:\u001b[0m\u001b[0;34m\u001b[0m\u001b[0m\n",
      "\u001b[0;32m/Users/chu/anaconda/envs/py2/lib/python2.7/site-packages/sklearn/model_selection/_validation.pyc\u001b[0m in \u001b[0;36m_fit_and_score\u001b[0;34m(estimator, X, y, scorer, train, test, verbose, parameters, fit_params, return_train_score, return_parameters, return_n_test_samples, return_times, error_score)\u001b[0m\n\u001b[1;32m    236\u001b[0m             \u001b[0mestimator\u001b[0m\u001b[0;34m.\u001b[0m\u001b[0mfit\u001b[0m\u001b[0;34m(\u001b[0m\u001b[0mX_train\u001b[0m\u001b[0;34m,\u001b[0m \u001b[0;34m**\u001b[0m\u001b[0mfit_params\u001b[0m\u001b[0;34m)\u001b[0m\u001b[0;34m\u001b[0m\u001b[0m\n\u001b[1;32m    237\u001b[0m         \u001b[0;32melse\u001b[0m\u001b[0;34m:\u001b[0m\u001b[0;34m\u001b[0m\u001b[0m\n\u001b[0;32m--> 238\u001b[0;31m             \u001b[0mestimator\u001b[0m\u001b[0;34m.\u001b[0m\u001b[0mfit\u001b[0m\u001b[0;34m(\u001b[0m\u001b[0mX_train\u001b[0m\u001b[0;34m,\u001b[0m \u001b[0my_train\u001b[0m\u001b[0;34m,\u001b[0m \u001b[0;34m**\u001b[0m\u001b[0mfit_params\u001b[0m\u001b[0;34m)\u001b[0m\u001b[0;34m\u001b[0m\u001b[0m\n\u001b[0m\u001b[1;32m    239\u001b[0m \u001b[0;34m\u001b[0m\u001b[0m\n\u001b[1;32m    240\u001b[0m     \u001b[0;32mexcept\u001b[0m \u001b[0mException\u001b[0m \u001b[0;32mas\u001b[0m \u001b[0me\u001b[0m\u001b[0;34m:\u001b[0m\u001b[0;34m\u001b[0m\u001b[0m\n",
      "\u001b[0;32m/Users/chu/anaconda/envs/py2/lib/python2.7/site-packages/sklearn/pipeline.pyc\u001b[0m in \u001b[0;36mfit\u001b[0;34m(self, X, y, **fit_params)\u001b[0m\n\u001b[1;32m    266\u001b[0m             \u001b[0mThis\u001b[0m \u001b[0mestimator\u001b[0m\u001b[0;34m\u001b[0m\u001b[0m\n\u001b[1;32m    267\u001b[0m         \"\"\"\n\u001b[0;32m--> 268\u001b[0;31m         \u001b[0mXt\u001b[0m\u001b[0;34m,\u001b[0m \u001b[0mfit_params\u001b[0m \u001b[0;34m=\u001b[0m \u001b[0mself\u001b[0m\u001b[0;34m.\u001b[0m\u001b[0m_fit\u001b[0m\u001b[0;34m(\u001b[0m\u001b[0mX\u001b[0m\u001b[0;34m,\u001b[0m \u001b[0my\u001b[0m\u001b[0;34m,\u001b[0m \u001b[0;34m**\u001b[0m\u001b[0mfit_params\u001b[0m\u001b[0;34m)\u001b[0m\u001b[0;34m\u001b[0m\u001b[0m\n\u001b[0m\u001b[1;32m    269\u001b[0m         \u001b[0;32mif\u001b[0m \u001b[0mself\u001b[0m\u001b[0;34m.\u001b[0m\u001b[0m_final_estimator\u001b[0m \u001b[0;32mis\u001b[0m \u001b[0;32mnot\u001b[0m \u001b[0mNone\u001b[0m\u001b[0;34m:\u001b[0m\u001b[0;34m\u001b[0m\u001b[0m\n\u001b[1;32m    270\u001b[0m             \u001b[0mself\u001b[0m\u001b[0;34m.\u001b[0m\u001b[0m_final_estimator\u001b[0m\u001b[0;34m.\u001b[0m\u001b[0mfit\u001b[0m\u001b[0;34m(\u001b[0m\u001b[0mXt\u001b[0m\u001b[0;34m,\u001b[0m \u001b[0my\u001b[0m\u001b[0;34m,\u001b[0m \u001b[0;34m**\u001b[0m\u001b[0mfit_params\u001b[0m\u001b[0;34m)\u001b[0m\u001b[0;34m\u001b[0m\u001b[0m\n",
      "\u001b[0;32m/Users/chu/anaconda/envs/py2/lib/python2.7/site-packages/sklearn/pipeline.pyc\u001b[0m in \u001b[0;36m_fit\u001b[0;34m(self, X, y, **fit_params)\u001b[0m\n\u001b[1;32m    232\u001b[0m                 \u001b[0;32mpass\u001b[0m\u001b[0;34m\u001b[0m\u001b[0m\n\u001b[1;32m    233\u001b[0m             \u001b[0;32melif\u001b[0m \u001b[0mhasattr\u001b[0m\u001b[0;34m(\u001b[0m\u001b[0mtransform\u001b[0m\u001b[0;34m,\u001b[0m \u001b[0;34m\"fit_transform\"\u001b[0m\u001b[0;34m)\u001b[0m\u001b[0;34m:\u001b[0m\u001b[0;34m\u001b[0m\u001b[0m\n\u001b[0;32m--> 234\u001b[0;31m                 \u001b[0mXt\u001b[0m \u001b[0;34m=\u001b[0m \u001b[0mtransform\u001b[0m\u001b[0;34m.\u001b[0m\u001b[0mfit_transform\u001b[0m\u001b[0;34m(\u001b[0m\u001b[0mXt\u001b[0m\u001b[0;34m,\u001b[0m \u001b[0my\u001b[0m\u001b[0;34m,\u001b[0m \u001b[0;34m**\u001b[0m\u001b[0mfit_params_steps\u001b[0m\u001b[0;34m[\u001b[0m\u001b[0mname\u001b[0m\u001b[0;34m]\u001b[0m\u001b[0;34m)\u001b[0m\u001b[0;34m\u001b[0m\u001b[0m\n\u001b[0m\u001b[1;32m    235\u001b[0m             \u001b[0;32melse\u001b[0m\u001b[0;34m:\u001b[0m\u001b[0;34m\u001b[0m\u001b[0m\n\u001b[1;32m    236\u001b[0m                 \u001b[0mXt\u001b[0m \u001b[0;34m=\u001b[0m \u001b[0mtransform\u001b[0m\u001b[0;34m.\u001b[0m\u001b[0mfit\u001b[0m\u001b[0;34m(\u001b[0m\u001b[0mXt\u001b[0m\u001b[0;34m,\u001b[0m \u001b[0my\u001b[0m\u001b[0;34m,\u001b[0m \u001b[0;34m**\u001b[0m\u001b[0mfit_params_steps\u001b[0m\u001b[0;34m[\u001b[0m\u001b[0mname\u001b[0m\u001b[0;34m]\u001b[0m\u001b[0;34m)\u001b[0m\u001b[0;31m \u001b[0m\u001b[0;31m\\\u001b[0m\u001b[0;34m\u001b[0m\u001b[0m\n",
      "\u001b[0;32m/Users/chu/anaconda/envs/py2/lib/python2.7/site-packages/sklearn/base.pyc\u001b[0m in \u001b[0;36mfit_transform\u001b[0;34m(self, X, y, **fit_params)\u001b[0m\n\u001b[1;32m    495\u001b[0m         \u001b[0;32melse\u001b[0m\u001b[0;34m:\u001b[0m\u001b[0;34m\u001b[0m\u001b[0m\n\u001b[1;32m    496\u001b[0m             \u001b[0;31m# fit method of arity 2 (supervised transformation)\u001b[0m\u001b[0;34m\u001b[0m\u001b[0;34m\u001b[0m\u001b[0m\n\u001b[0;32m--> 497\u001b[0;31m             \u001b[0;32mreturn\u001b[0m \u001b[0mself\u001b[0m\u001b[0;34m.\u001b[0m\u001b[0mfit\u001b[0m\u001b[0;34m(\u001b[0m\u001b[0mX\u001b[0m\u001b[0;34m,\u001b[0m \u001b[0my\u001b[0m\u001b[0;34m,\u001b[0m \u001b[0;34m**\u001b[0m\u001b[0mfit_params\u001b[0m\u001b[0;34m)\u001b[0m\u001b[0;34m.\u001b[0m\u001b[0mtransform\u001b[0m\u001b[0;34m(\u001b[0m\u001b[0mX\u001b[0m\u001b[0;34m)\u001b[0m\u001b[0;34m\u001b[0m\u001b[0m\n\u001b[0m\u001b[1;32m    498\u001b[0m \u001b[0;34m\u001b[0m\u001b[0m\n\u001b[1;32m    499\u001b[0m \u001b[0;34m\u001b[0m\u001b[0m\n",
      "\u001b[0;32m/Users/chu/anaconda/envs/py2/lib/python2.7/site-packages/sklearn_pandas/dataframe_mapper.pyc\u001b[0m in \u001b[0;36mtransform\u001b[0;34m(self, X)\u001b[0m\n\u001b[1;32m    215\u001b[0m             \u001b[0;31m# strings; we don't care because pandas\u001b[0m\u001b[0;34m\u001b[0m\u001b[0;34m\u001b[0m\u001b[0m\n\u001b[1;32m    216\u001b[0m             \u001b[0;31m# will handle either.\u001b[0m\u001b[0;34m\u001b[0m\u001b[0;34m\u001b[0m\u001b[0m\n\u001b[0;32m--> 217\u001b[0;31m             \u001b[0mXt\u001b[0m \u001b[0;34m=\u001b[0m \u001b[0mself\u001b[0m\u001b[0;34m.\u001b[0m\u001b[0m_get_col_subset\u001b[0m\u001b[0;34m(\u001b[0m\u001b[0mX\u001b[0m\u001b[0;34m,\u001b[0m \u001b[0mcolumns\u001b[0m\u001b[0;34m)\u001b[0m\u001b[0;34m\u001b[0m\u001b[0m\n\u001b[0m\u001b[1;32m    218\u001b[0m             \u001b[0;32mif\u001b[0m \u001b[0mtransformers\u001b[0m \u001b[0;32mis\u001b[0m \u001b[0;32mnot\u001b[0m \u001b[0mNone\u001b[0m\u001b[0;34m:\u001b[0m\u001b[0;34m\u001b[0m\u001b[0m\n\u001b[1;32m    219\u001b[0m                 \u001b[0mXt\u001b[0m \u001b[0;34m=\u001b[0m \u001b[0mtransformers\u001b[0m\u001b[0;34m.\u001b[0m\u001b[0mtransform\u001b[0m\u001b[0;34m(\u001b[0m\u001b[0mXt\u001b[0m\u001b[0;34m)\u001b[0m\u001b[0;34m\u001b[0m\u001b[0m\n",
      "\u001b[0;32m/Users/chu/anaconda/envs/py2/lib/python2.7/site-packages/sklearn_pandas/dataframe_mapper.pyc\u001b[0m in \u001b[0;36m_get_col_subset\u001b[0;34m(self, X, cols)\u001b[0m\n\u001b[1;32m    136\u001b[0m \u001b[0;34m\u001b[0m\u001b[0m\n\u001b[1;32m    137\u001b[0m         \u001b[0;32mif\u001b[0m \u001b[0misinstance\u001b[0m\u001b[0;34m(\u001b[0m\u001b[0mX\u001b[0m\u001b[0;34m,\u001b[0m \u001b[0mlist\u001b[0m\u001b[0;34m)\u001b[0m\u001b[0;34m:\u001b[0m\u001b[0;34m\u001b[0m\u001b[0m\n\u001b[0;32m--> 138\u001b[0;31m             \u001b[0mX\u001b[0m \u001b[0;34m=\u001b[0m \u001b[0;34m[\u001b[0m\u001b[0mx\u001b[0m\u001b[0;34m[\u001b[0m\u001b[0mcols\u001b[0m\u001b[0;34m]\u001b[0m \u001b[0;32mfor\u001b[0m \u001b[0mx\u001b[0m \u001b[0;32min\u001b[0m \u001b[0mX\u001b[0m\u001b[0;34m]\u001b[0m\u001b[0;34m\u001b[0m\u001b[0m\n\u001b[0m\u001b[1;32m    139\u001b[0m             \u001b[0mX\u001b[0m \u001b[0;34m=\u001b[0m \u001b[0mpd\u001b[0m\u001b[0;34m.\u001b[0m\u001b[0mDataFrame\u001b[0m\u001b[0;34m(\u001b[0m\u001b[0mX\u001b[0m\u001b[0;34m)\u001b[0m\u001b[0;34m\u001b[0m\u001b[0m\n\u001b[1;32m    140\u001b[0m \u001b[0;34m\u001b[0m\u001b[0m\n",
      "\u001b[0;32m/Users/chu/anaconda/envs/py2/lib/python2.7/site-packages/pandas/core/series.pyc\u001b[0m in \u001b[0;36m__getitem__\u001b[0;34m(self, key)\u001b[0m\n\u001b[1;32m    642\u001b[0m             \u001b[0mkey\u001b[0m \u001b[0;34m=\u001b[0m \u001b[0mcheck_bool_indexer\u001b[0m\u001b[0;34m(\u001b[0m\u001b[0mself\u001b[0m\u001b[0;34m.\u001b[0m\u001b[0mindex\u001b[0m\u001b[0;34m,\u001b[0m \u001b[0mkey\u001b[0m\u001b[0;34m)\u001b[0m\u001b[0;34m\u001b[0m\u001b[0m\n\u001b[1;32m    643\u001b[0m \u001b[0;34m\u001b[0m\u001b[0m\n\u001b[0;32m--> 644\u001b[0;31m         \u001b[0;32mreturn\u001b[0m \u001b[0mself\u001b[0m\u001b[0;34m.\u001b[0m\u001b[0m_get_with\u001b[0m\u001b[0;34m(\u001b[0m\u001b[0mkey\u001b[0m\u001b[0;34m)\u001b[0m\u001b[0;34m\u001b[0m\u001b[0m\n\u001b[0m\u001b[1;32m    645\u001b[0m \u001b[0;34m\u001b[0m\u001b[0m\n\u001b[1;32m    646\u001b[0m     \u001b[0;32mdef\u001b[0m \u001b[0m_get_with\u001b[0m\u001b[0;34m(\u001b[0m\u001b[0mself\u001b[0m\u001b[0;34m,\u001b[0m \u001b[0mkey\u001b[0m\u001b[0;34m)\u001b[0m\u001b[0;34m:\u001b[0m\u001b[0;34m\u001b[0m\u001b[0m\n",
      "\u001b[0;32m/Users/chu/anaconda/envs/py2/lib/python2.7/site-packages/pandas/core/series.pyc\u001b[0m in \u001b[0;36m_get_with\u001b[0;34m(self, key)\u001b[0m\n\u001b[1;32m    683\u001b[0m                     \u001b[0;31m# handle the dup indexing case (GH 4246)\u001b[0m\u001b[0;34m\u001b[0m\u001b[0;34m\u001b[0m\u001b[0m\n\u001b[1;32m    684\u001b[0m                     \u001b[0;32mif\u001b[0m \u001b[0misinstance\u001b[0m\u001b[0;34m(\u001b[0m\u001b[0mkey\u001b[0m\u001b[0;34m,\u001b[0m \u001b[0;34m(\u001b[0m\u001b[0mlist\u001b[0m\u001b[0;34m,\u001b[0m \u001b[0mtuple\u001b[0m\u001b[0;34m)\u001b[0m\u001b[0;34m)\u001b[0m\u001b[0;34m:\u001b[0m\u001b[0;34m\u001b[0m\u001b[0m\n\u001b[0;32m--> 685\u001b[0;31m                         \u001b[0;32mreturn\u001b[0m \u001b[0mself\u001b[0m\u001b[0;34m.\u001b[0m\u001b[0mix\u001b[0m\u001b[0;34m[\u001b[0m\u001b[0mkey\u001b[0m\u001b[0;34m]\u001b[0m\u001b[0;34m\u001b[0m\u001b[0m\n\u001b[0m\u001b[1;32m    686\u001b[0m \u001b[0;34m\u001b[0m\u001b[0m\n\u001b[1;32m    687\u001b[0m                     \u001b[0;32mreturn\u001b[0m \u001b[0mself\u001b[0m\u001b[0;34m.\u001b[0m\u001b[0mreindex\u001b[0m\u001b[0;34m(\u001b[0m\u001b[0mkey\u001b[0m\u001b[0;34m)\u001b[0m\u001b[0;34m\u001b[0m\u001b[0m\n",
      "\u001b[0;32m/Users/chu/anaconda/envs/py2/lib/python2.7/site-packages/pandas/core/indexing.pyc\u001b[0m in \u001b[0;36m__getitem__\u001b[0;34m(self, key)\u001b[0m\n\u001b[1;32m     85\u001b[0m         \u001b[0;32melse\u001b[0m\u001b[0;34m:\u001b[0m\u001b[0;34m\u001b[0m\u001b[0m\n\u001b[1;32m     86\u001b[0m             \u001b[0mkey\u001b[0m \u001b[0;34m=\u001b[0m \u001b[0mcom\u001b[0m\u001b[0;34m.\u001b[0m\u001b[0m_apply_if_callable\u001b[0m\u001b[0;34m(\u001b[0m\u001b[0mkey\u001b[0m\u001b[0;34m,\u001b[0m \u001b[0mself\u001b[0m\u001b[0;34m.\u001b[0m\u001b[0mobj\u001b[0m\u001b[0;34m)\u001b[0m\u001b[0;34m\u001b[0m\u001b[0m\n\u001b[0;32m---> 87\u001b[0;31m             \u001b[0;32mreturn\u001b[0m \u001b[0mself\u001b[0m\u001b[0;34m.\u001b[0m\u001b[0m_getitem_axis\u001b[0m\u001b[0;34m(\u001b[0m\u001b[0mkey\u001b[0m\u001b[0;34m,\u001b[0m \u001b[0maxis\u001b[0m\u001b[0;34m=\u001b[0m\u001b[0;36m0\u001b[0m\u001b[0;34m)\u001b[0m\u001b[0;34m\u001b[0m\u001b[0m\n\u001b[0m\u001b[1;32m     88\u001b[0m \u001b[0;34m\u001b[0m\u001b[0m\n\u001b[1;32m     89\u001b[0m     \u001b[0;32mdef\u001b[0m \u001b[0m_get_label\u001b[0m\u001b[0;34m(\u001b[0m\u001b[0mself\u001b[0m\u001b[0;34m,\u001b[0m \u001b[0mlabel\u001b[0m\u001b[0;34m,\u001b[0m \u001b[0maxis\u001b[0m\u001b[0;34m=\u001b[0m\u001b[0;36m0\u001b[0m\u001b[0;34m)\u001b[0m\u001b[0;34m:\u001b[0m\u001b[0;34m\u001b[0m\u001b[0m\n",
      "\u001b[0;32m/Users/chu/anaconda/envs/py2/lib/python2.7/site-packages/pandas/core/indexing.pyc\u001b[0m in \u001b[0;36m_getitem_axis\u001b[0;34m(self, key, axis)\u001b[0m\n\u001b[1;32m   1000\u001b[0m \u001b[0;34m\u001b[0m\u001b[0m\n\u001b[1;32m   1001\u001b[0m         \u001b[0;32mif\u001b[0m \u001b[0mself\u001b[0m\u001b[0;34m.\u001b[0m\u001b[0m_should_validate_iterable\u001b[0m\u001b[0;34m(\u001b[0m\u001b[0maxis\u001b[0m\u001b[0;34m)\u001b[0m\u001b[0;34m:\u001b[0m\u001b[0;34m\u001b[0m\u001b[0m\n\u001b[0;32m-> 1002\u001b[0;31m             \u001b[0mself\u001b[0m\u001b[0;34m.\u001b[0m\u001b[0m_has_valid_type\u001b[0m\u001b[0;34m(\u001b[0m\u001b[0mkey\u001b[0m\u001b[0;34m,\u001b[0m \u001b[0maxis\u001b[0m\u001b[0;34m)\u001b[0m\u001b[0;34m\u001b[0m\u001b[0m\n\u001b[0m\u001b[1;32m   1003\u001b[0m \u001b[0;34m\u001b[0m\u001b[0m\n\u001b[1;32m   1004\u001b[0m         \u001b[0mlabels\u001b[0m \u001b[0;34m=\u001b[0m \u001b[0mself\u001b[0m\u001b[0;34m.\u001b[0m\u001b[0mobj\u001b[0m\u001b[0;34m.\u001b[0m\u001b[0m_get_axis\u001b[0m\u001b[0;34m(\u001b[0m\u001b[0maxis\u001b[0m\u001b[0;34m)\u001b[0m\u001b[0;34m\u001b[0m\u001b[0m\n",
      "\u001b[0;32m/Users/chu/anaconda/envs/py2/lib/python2.7/site-packages/pandas/core/indexing.pyc\u001b[0m in \u001b[0;36m_has_valid_type\u001b[0;34m(self, key, axis)\u001b[0m\n\u001b[1;32m   1287\u001b[0m             \u001b[0;32mreturn\u001b[0m \u001b[0mTrue\u001b[0m\u001b[0;34m\u001b[0m\u001b[0m\n\u001b[1;32m   1288\u001b[0m \u001b[0;34m\u001b[0m\u001b[0m\n\u001b[0;32m-> 1289\u001b[0;31m         \u001b[0;32melif\u001b[0m \u001b[0mis_list_like_indexer\u001b[0m\u001b[0;34m(\u001b[0m\u001b[0mkey\u001b[0m\u001b[0;34m)\u001b[0m\u001b[0;34m:\u001b[0m\u001b[0;34m\u001b[0m\u001b[0m\n\u001b[0m\u001b[1;32m   1290\u001b[0m             \u001b[0;32mreturn\u001b[0m \u001b[0mTrue\u001b[0m\u001b[0;34m\u001b[0m\u001b[0m\n\u001b[1;32m   1291\u001b[0m \u001b[0;34m\u001b[0m\u001b[0m\n",
      "\u001b[0;32m/Users/chu/anaconda/envs/py2/lib/python2.7/site-packages/pandas/core/indexing.pyc\u001b[0m in \u001b[0;36mis_list_like_indexer\u001b[0;34m(key)\u001b[0m\n\u001b[1;32m   1907\u001b[0m \u001b[0;32mdef\u001b[0m \u001b[0mis_list_like_indexer\u001b[0m\u001b[0;34m(\u001b[0m\u001b[0mkey\u001b[0m\u001b[0;34m)\u001b[0m\u001b[0;34m:\u001b[0m\u001b[0;34m\u001b[0m\u001b[0m\n\u001b[1;32m   1908\u001b[0m     \u001b[0;31m# allow a list_like, but exclude NamedTuples which can be indexers\u001b[0m\u001b[0;34m\u001b[0m\u001b[0;34m\u001b[0m\u001b[0m\n\u001b[0;32m-> 1909\u001b[0;31m     return is_list_like(key) and not (isinstance(key, tuple) and\n\u001b[0m\u001b[1;32m   1910\u001b[0m                                       type(key) is not tuple)\n\u001b[1;32m   1911\u001b[0m \u001b[0;34m\u001b[0m\u001b[0m\n",
      "\u001b[0;32m/Users/chu/anaconda/envs/py2/lib/python2.7/site-packages/pandas/types/inference.pyc\u001b[0m in \u001b[0;36mis_list_like\u001b[0;34m(arg)\u001b[0m\n\u001b[1;32m     53\u001b[0m \u001b[0;32mdef\u001b[0m \u001b[0mis_list_like\u001b[0m\u001b[0;34m(\u001b[0m\u001b[0marg\u001b[0m\u001b[0;34m)\u001b[0m\u001b[0;34m:\u001b[0m\u001b[0;34m\u001b[0m\u001b[0m\n\u001b[1;32m     54\u001b[0m     return (hasattr(arg, '__iter__') and\n\u001b[0;32m---> 55\u001b[0;31m             not isinstance(arg, string_and_binary_types))\n\u001b[0m\u001b[1;32m     56\u001b[0m \u001b[0;34m\u001b[0m\u001b[0m\n\u001b[1;32m     57\u001b[0m \u001b[0;34m\u001b[0m\u001b[0m\n",
      "\u001b[0;31mKeyboardInterrupt\u001b[0m: "
     ]
    }
   ],
   "source": [
    "pipe = sklearn.pipeline.Pipeline([\n",
    "        ('featurize', mapper),\n",
    "        ('lm', sklearn.linear_model.LinearRegression())])\n",
    "print(np.round(cross_val_score(pipe, X=df.copy(), y=df.food_loss, scoring='r2'), 2))"
   ]
  },
  {
   "cell_type": "code",
   "execution_count": null,
   "metadata": {
    "collapsed": true
   },
   "outputs": [],
   "source": []
  }
 ],
 "metadata": {
  "anaconda-cloud": {},
  "kernelspec": {
   "display_name": "Python [py2]",
   "language": "python",
   "name": "Python [py2]"
  },
  "language_info": {
   "codemirror_mode": {
    "name": "ipython",
    "version": 2
   },
   "file_extension": ".py",
   "mimetype": "text/x-python",
   "name": "python",
   "nbconvert_exporter": "python",
   "pygments_lexer": "ipython2",
   "version": "2.7.12"
  }
 },
 "nbformat": 4,
 "nbformat_minor": 1
}
